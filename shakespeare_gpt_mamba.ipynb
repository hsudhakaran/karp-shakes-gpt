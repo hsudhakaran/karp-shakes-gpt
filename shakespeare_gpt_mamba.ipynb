{
  "cells": [
    {
      "cell_type": "markdown",
      "metadata": {
        "id": "view-in-github",
        "colab_type": "text"
      },
      "source": [
        "<a href=\"https://colab.research.google.com/github/hsudhakaran/karp-shakes-gpt/blob/main/shakespeare_gpt_mamba.ipynb\" target=\"_parent\"><img src=\"https://colab.research.google.com/assets/colab-badge.svg\" alt=\"Open In Colab\"/></a>"
      ]
    },
    {
      "cell_type": "code",
      "execution_count": null,
      "metadata": {
        "colab": {
          "base_uri": "https://localhost:8080/"
        },
        "id": "gS6euWNvHFye",
        "outputId": "c1d50d8b-3d5b-4288-892e-3d49e89c792a"
      },
      "outputs": [
        {
          "name": "stdout",
          "output_type": "stream",
          "text": [
            "\u001b[2K     \u001b[90m━━━━━━━━━━━━━━━━━━━━━━━━━━━━━━━━━━━━━━━━\u001b[0m \u001b[32m101.8/101.8 kB\u001b[0m \u001b[31m1.1 MB/s\u001b[0m eta \u001b[36m0:00:00\u001b[0m\n",
            "\u001b[2K     \u001b[90m━━━━━━━━━━━━━━━━━━━━━━━━━━━━━━━━━━━━━━━━\u001b[0m \u001b[32m77.9/77.9 kB\u001b[0m \u001b[31m3.6 MB/s\u001b[0m eta \u001b[36m0:00:00\u001b[0m\n",
            "\u001b[?25h  Preparing metadata (setup.py) ... \u001b[?25l\u001b[?25hdone\n",
            "  Building wheel for ml-collections (setup.py) ... \u001b[?25l\u001b[?25hdone\n"
          ]
        }
      ],
      "source": [
        "!pip install -q clu"
      ]
    },
    {
      "cell_type": "code",
      "execution_count": null,
      "metadata": {
        "colab": {
          "base_uri": "https://localhost:8080/"
        },
        "id": "7jjCLfuUHFyg",
        "outputId": "399078d6-fcf8-4d5c-db38-dc6b2c18fdef"
      },
      "outputs": [
        {
          "name": "stdout",
          "output_type": "stream",
          "text": [
            "--2024-05-16 14:12:38--  https://raw.githubusercontent.com/karpathy/char-rnn/master/data/tinyshakespeare/input.txt\n",
            "Resolving raw.githubusercontent.com (raw.githubusercontent.com)... 185.199.108.133, 185.199.109.133, 185.199.110.133, ...\n",
            "Connecting to raw.githubusercontent.com (raw.githubusercontent.com)|185.199.108.133|:443... connected.\n",
            "HTTP request sent, awaiting response... 200 OK\n",
            "Length: 1115394 (1.1M) [text/plain]\n",
            "Saving to: ‘input.txt’\n",
            "\n",
            "\rinput.txt             0%[                    ]       0  --.-KB/s               \rinput.txt           100%[===================>]   1.06M  --.-KB/s    in 0.05s   \n",
            "\n",
            "2024-05-16 14:12:38 (20.0 MB/s) - ‘input.txt’ saved [1115394/1115394]\n",
            "\n"
          ]
        }
      ],
      "source": [
        "# We always start with a dataset to train on. Let's download the tiny shakespeare dataset\n",
        "!wget https://raw.githubusercontent.com/karpathy/char-rnn/master/data/tinyshakespeare/input.txt"
      ]
    },
    {
      "cell_type": "code",
      "execution_count": null,
      "metadata": {
        "id": "YXSCJzupHFyh"
      },
      "outputs": [],
      "source": [
        "from functools import partial\n",
        "import jax\n",
        "import jax.numpy as jnp\n",
        "from flax import linen as nn\n",
        "from jax.nn.initializers import lecun_normal, normal\n",
        "from jax.numpy.linalg import eigh, inv, matrix_power\n",
        "from jax.scipy.signal import convolve\n",
        "\n",
        "import torch\n",
        "\n",
        "from dataclasses import dataclass\n",
        "\n",
        "from typing import Union\n",
        "\n",
        "import matplotlib.pyplot as plt\n",
        "import seaborn\n",
        "\n",
        "from clu import metrics\n",
        "from flax.training import train_state  # Useful dataclass to keep train state\n",
        "from flax import struct                # Flax dataclasses\n",
        "import optax                           # Common loss functions and optimizers\n",
        "from tqdm import tqdm"
      ]
    },
    {
      "cell_type": "code",
      "execution_count": null,
      "metadata": {
        "id": "KpJoV3KQHFyh"
      },
      "outputs": [],
      "source": [
        "# read it in to inspect it\n",
        "with open('input.txt', 'r', encoding='utf-8') as f:\n",
        "    text = f.read()"
      ]
    },
    {
      "cell_type": "code",
      "execution_count": null,
      "metadata": {
        "colab": {
          "base_uri": "https://localhost:8080/"
        },
        "id": "PsWxZqyRHFyi",
        "outputId": "cd56f092-58d5-4c75-cd33-c687d42eae88"
      },
      "outputs": [
        {
          "name": "stdout",
          "output_type": "stream",
          "text": [
            "\n",
            " !$&',-.3:;?ABCDEFGHIJKLMNOPQRSTUVWXYZabcdefghijklmnopqrstuvwxyz\n",
            "65\n"
          ]
        }
      ],
      "source": [
        "# here are all the unique characters that occur in this text\n",
        "chars = sorted(list(set(text)))\n",
        "vocab_size = len(chars)\n",
        "print(''.join(chars))\n",
        "print(vocab_size)"
      ]
    },
    {
      "cell_type": "code",
      "execution_count": null,
      "metadata": {
        "colab": {
          "base_uri": "https://localhost:8080/"
        },
        "id": "S-mzLOk1HFyi",
        "outputId": "555d9775-3c2a-4c56-bda1-fca5de4cabaa"
      },
      "outputs": [
        {
          "name": "stdout",
          "output_type": "stream",
          "text": [
            "[46, 47, 47, 1, 58, 46, 43, 56, 43]\n",
            "hii there\n"
          ]
        }
      ],
      "source": [
        "# create a mapping from characters to integers\n",
        "stoi = { ch: i for i,ch in enumerate(chars) }\n",
        "itos = { i: ch for i,ch in enumerate(chars) }\n",
        "encode = lambda s: [stoi[c] for c in s] # encoder: take a string, output a list of integers\n",
        "decode = lambda l: ''.join([itos[i] for i in l]) # decoder: take a list of integers, output a string\n",
        "\n",
        "print(encode(\"hii there\"))\n",
        "print(decode(encode(\"hii there\")))"
      ]
    },
    {
      "cell_type": "code",
      "execution_count": null,
      "metadata": {
        "colab": {
          "base_uri": "https://localhost:8080/"
        },
        "id": "HImuqDd8HFyj",
        "outputId": "a7bab873-d3dd-4f96-cdd9-810b00a7a39c"
      },
      "outputs": [
        {
          "name": "stdout",
          "output_type": "stream",
          "text": [
            "(1115394,) int32\n",
            "[18 47 56 57 58  1 15 47 58 47 64 43 52 10  0 14 43 44 53 56 43  1 61 43\n",
            "  1 54 56 53 41 43 43 42  1 39 52 63  1 44 59 56 58 46 43 56  6  1 46 43\n",
            " 39 56  1 51 43  1 57 54 43 39 49  8  0  0 13 50 50 10  0 31 54 43 39 49\n",
            "  6  1 57 54 43 39 49  8  0  0 18 47 56 57 58  1 15 47 58 47 64 43 52 10\n",
            "  0 37 53 59  1 39 56 43  1 39 50 50  1 56 43 57 53 50 60 43 42  1 56 39\n",
            " 58 46 43 56  1 58 53  1 42 47 43  1 58 46 39 52  1 58 53  1 44 39 51 47\n",
            " 57 46 12  0  0 13 50 50 10  0 30 43 57 53 50 60 43 42  8  1 56 43 57 53\n",
            " 50 60 43 42  8  0  0 18 47 56 57 58  1 15 47 58 47 64 43 52 10  0 18 47\n",
            " 56 57 58  6  1 63 53 59  1 49 52 53 61  1 15 39 47 59 57  1 25 39 56 41\n",
            " 47 59 57  1 47 57  1 41 46 47 43 44  1 43 52 43 51 63  1 58 53  1 58 46\n",
            " 43  1 54 43 53 54 50 43  8  0  0 13 50 50 10  0 35 43  1 49 52 53 61  5\n",
            " 58  6  1 61 43  1 49 52 53 61  5 58  8  0  0 18 47 56 57 58  1 15 47 58\n",
            " 47 64 43 52 10  0 24 43 58  1 59 57  1 49 47 50 50  1 46 47 51  6  1 39\n",
            " 52 42  1 61 43  5 50 50  1 46 39 60 43  1 41 53 56 52  1 39 58  1 53 59\n",
            " 56  1 53 61 52  1 54 56 47 41 43  8  0 21 57  5 58  1 39  1 60 43 56 42\n",
            " 47 41 58 12  0  0 13 50 50 10  0 26 53  1 51 53 56 43  1 58 39 50 49 47\n",
            " 52 45  1 53 52  5 58 11  1 50 43 58  1 47 58  1 40 43  1 42 53 52 43 10\n",
            "  1 39 61 39 63  6  1 39 61 39 63  2  0  0 31 43 41 53 52 42  1 15 47 58\n",
            " 47 64 43 52 10  0 27 52 43  1 61 53 56 42  6  1 45 53 53 42  1 41 47 58\n",
            " 47 64 43 52 57  8  0  0 18 47 56 57 58  1 15 47 58 47 64 43 52 10  0 35\n",
            " 43  1 39 56 43  1 39 41 41 53 59 52 58 43 42  1 54 53 53 56  1 41 47 58\n",
            " 47 64 43 52 57  6  1 58 46 43  1 54 39 58 56 47 41 47 39 52 57  1 45 53\n",
            " 53 42  8  0 35 46 39 58  1 39 59 58 46 53 56 47 58 63  1 57 59 56 44 43\n",
            " 47 58 57  1 53 52  1 61 53 59 50 42  1 56 43 50 47 43 60 43  1 59 57 10\n",
            "  1 47 44  1 58 46 43 63  0 61 53 59 50 42  1 63 47 43 50 42  1 59 57  1\n",
            " 40 59 58  1 58 46 43  1 57 59 54 43 56 44 50 59 47 58 63  6  1 61 46 47\n",
            " 50 43  1 47 58  1 61 43 56 43  0 61 46 53 50 43 57 53 51 43  6  1 61 43\n",
            "  1 51 47 45 46 58  1 45 59 43 57 57  1 58 46 43 63  1 56 43 50 47 43 60\n",
            " 43 42  1 59 57  1 46 59 51 39 52 43 50 63 11  0 40 59 58  1 58 46 43 63\n",
            "  1 58 46 47 52 49  1 61 43  1 39 56 43  1 58 53 53  1 42 43 39 56 10  1\n",
            " 58 46 43  1 50 43 39 52 52 43 57 57  1 58 46 39 58  0 39 44 44 50 47 41\n",
            " 58 57  1 59 57  6  1 58 46 43  1 53 40 48 43 41 58  1 53 44  1 53 59 56\n",
            "  1 51 47 57 43 56 63  6  1 47 57  1 39 57  1 39 52  0 47 52 60 43 52 58\n",
            " 53 56 63  1 58 53  1 54 39 56 58 47 41 59 50 39 56 47 57 43  1 58 46 43\n",
            " 47 56  1 39 40 59 52 42 39 52 41 43 11  1 53 59 56  0 57 59 44 44 43 56\n",
            " 39 52 41 43  1 47 57  1 39  1 45 39 47 52  1 58 53  1 58 46 43 51  1 24\n",
            " 43 58  1 59 57  1 56 43 60 43 52 45 43  1 58 46 47 57  1 61 47 58 46  0\n",
            " 53 59 56  1 54 47 49 43 57  6  1 43 56 43  1 61 43  1 40 43 41 53 51 43\n",
            "  1 56 39 49 43 57 10  1 44 53 56  1 58 46 43  1 45 53 42 57  1 49 52 53\n",
            " 61  1 21  0 57 54 43 39 49  1 58 46 47 57  1 47 52  1 46 59 52 45 43 56\n",
            "  1 44 53 56  1 40 56 43 39 42  6  1 52 53 58  1 47 52  1 58 46 47 56 57\n",
            " 58  1 44 53 56  1 56 43 60 43 52 45 43  8  0  0]\n"
          ]
        }
      ],
      "source": [
        "data = jnp.array(encode(text), dtype=jnp.int32)\n",
        "print(data.shape, data.dtype)\n",
        "print(data[:1000]) # the 1000 characters we looked at earier will to the GPT look like this"
      ]
    },
    {
      "cell_type": "code",
      "execution_count": null,
      "metadata": {
        "id": "pXrAqMxRHFyj"
      },
      "outputs": [],
      "source": [
        "train_test_split = 0.9\n",
        "n = int(train_test_split*len(data))\n",
        "train_data = data[:n]\n",
        "test_data = data[n:]"
      ]
    },
    {
      "cell_type": "code",
      "execution_count": null,
      "metadata": {
        "colab": {
          "base_uri": "https://localhost:8080/"
        },
        "id": "ahhKyiAzHFyj",
        "outputId": "1b3c6027-a59d-48d0-ae1c-7fe6a7b79046"
      },
      "outputs": [
        {
          "data": {
            "text/plain": [
              "Array([18, 47, 56, 57, 58,  1, 15, 47, 58], dtype=int32)"
            ]
          },
          "execution_count": 9,
          "metadata": {},
          "output_type": "execute_result"
        }
      ],
      "source": [
        "block_size = 8\n",
        "train_data[:block_size+1]"
      ]
    },
    {
      "cell_type": "code",
      "execution_count": null,
      "metadata": {
        "colab": {
          "base_uri": "https://localhost:8080/"
        },
        "id": "HIpsznQmHFyk",
        "outputId": "baf694e6-ab5e-43c0-c71c-18396f034e33"
      },
      "outputs": [
        {
          "name": "stdout",
          "output_type": "stream",
          "text": [
            "when input is [18] the target: 47\n",
            "when input is [18 47] the target: 56\n",
            "when input is [18 47 56] the target: 57\n",
            "when input is [18 47 56 57] the target: 58\n",
            "when input is [18 47 56 57 58] the target: 1\n",
            "when input is [18 47 56 57 58  1] the target: 15\n",
            "when input is [18 47 56 57 58  1 15] the target: 47\n",
            "when input is [18 47 56 57 58  1 15 47] the target: 58\n"
          ]
        }
      ],
      "source": [
        "x = train_data[:block_size]\n",
        "y = train_data[1:block_size+1]\n",
        "for t in range(block_size):\n",
        "    context = x[:t+1]\n",
        "    target = y[t]\n",
        "    print(f\"when input is {context} the target: {target}\")"
      ]
    },
    {
      "cell_type": "code",
      "execution_count": null,
      "metadata": {
        "colab": {
          "base_uri": "https://localhost:8080/"
        },
        "id": "UuAjtqPeHFyk",
        "outputId": "3c52d84f-8f51-4f44-ecb5-e99bd1fc75ce"
      },
      "outputs": [
        {
          "name": "stdout",
          "output_type": "stream",
          "text": [
            "inputs:\n",
            "(128, 64)\n",
            "[[ 1 63 53 ... 40 63  1]\n",
            " [43  1 52 ... 46 39 42]\n",
            " [63  1 45 ... 50  1 61]\n",
            " ...\n",
            " [46 47 41 ... 58 43  1]\n",
            " [ 1 61 43 ... 53 59  1]\n",
            " [49  1 58 ... 53 61  1]]\n",
            "targets:\n",
            "(128, 64)\n",
            "[[63 53 59 ... 63  1 58]\n",
            " [ 1 52 43 ... 39 42  1]\n",
            " [ 1 45 53 ...  1 61 43]\n",
            " ...\n",
            " [47 41 46 ... 43  1 47]\n",
            " [61 43  5 ... 59  1 42]\n",
            " [ 1 58 46 ... 61  1 52]]\n"
          ]
        }
      ],
      "source": [
        "batch_size = 128 # how many independent sequences will we process in parallel?\n",
        "block_size = 64 # what is the maximum context length for predictions?\n",
        "max_iters = 1000\n",
        "eval_interval = 1000\n",
        "learning_rate = 5e-4\n",
        "# device = 'cuda' if torch.cuda.is_available() else 'cpu'\n",
        "eval_iters = 200\n",
        "n_embd = 256\n",
        "expans = 2\n",
        "n_heads = 1\n",
        "channel_size = n_embd // n_heads\n",
        "n_layers = 2\n",
        "dropout = 0.2\n",
        "conv_k_size = 3\n",
        "n_latent_dim = 16\n",
        "\n",
        "rng_key = jax.random.PRNGKey(1564)\n",
        "\n",
        "dynamic_slice_vmap = jax.vmap(jax.lax.dynamic_slice, in_axes=(None, 0, None))\n",
        "\n",
        "@jax.jit\n",
        "def get_batch(random_key, data):\n",
        "    \"\"\"Prepares a random batch of training data.\n",
        "\n",
        "    Args:\n",
        "      random_key: A random seed for sampling a batch.\n",
        "      data: The complete training dataset.\n",
        "\n",
        "    Returns:\n",
        "      x: Input sequences.\n",
        "      y: Target sequences (shifted inputs).\n",
        "    \"\"\"\n",
        "    ix = jax.random.randint(\n",
        "      random_key, shape=(batch_size, 1), minval=0, maxval=len(data) - block_size\n",
        "    )\n",
        "    x = dynamic_slice_vmap(data, ix, (block_size,))\n",
        "    y = dynamic_slice_vmap(data, ix + 1, (block_size,))\n",
        "    return x, y\n",
        "\n",
        "xb, yb = get_batch(rng_key, train_data)\n",
        "train_shape = xb.shape\n",
        "print('inputs:')\n",
        "print(xb.shape)\n",
        "print(xb)\n",
        "print('targets:')\n",
        "print(yb.shape)\n",
        "print(yb)\n",
        "\n",
        "# print('----')\n",
        "\n",
        "# for b in range(batch_size): # batch dimension\n",
        "#     for t in range(block_size): # time dimension\n",
        "#         context = xb[b, :t+1]\n",
        "#         target = yb[b,t]\n",
        "#         print(f\"when input is {context} the target: {target}\")"
      ]
    },
    {
      "cell_type": "code",
      "execution_count": null,
      "metadata": {
        "id": "T2frgB7MHFyk"
      },
      "outputs": [],
      "source": [
        "class RMSNorm(nn.Module):\n",
        "    d_model: int\n",
        "    eps: float = 1e-5\n",
        "\n",
        "    @nn.compact\n",
        "    def __call__(self, x):\n",
        "        weight = self.param('weight', nn.initializers.ones, (self.d_model,)) # TODO, maybe use setup will be more clear\n",
        "        normed = x * jax.lax.rsqrt(np.mean(np.square(x), axis=-1, keepdims=True) + self.eps)\n",
        "        output = normed * weight\n",
        "        return output"
      ]
    },
    {
      "cell_type": "code",
      "execution_count": null,
      "metadata": {
        "colab": {
          "base_uri": "https://localhost:8080/"
        },
        "id": "2vhJ5K33HFyl",
        "outputId": "2d9c80dc-2aff-4870-df15-5934042d8c72"
      },
      "outputs": [
        {
          "data": {
            "text/plain": [
              "(128, 64)"
            ]
          },
          "execution_count": 13,
          "metadata": {},
          "output_type": "execute_result"
        }
      ],
      "source": [
        "xb.shape"
      ]
    },
    {
      "cell_type": "code",
      "execution_count": null,
      "metadata": {
        "colab": {
          "base_uri": "https://localhost:8080/"
        },
        "id": "ex5hfTsyHFyl",
        "outputId": "46c71ef5-d5a2-4f5b-fb44-4add72e00d3f"
      },
      "outputs": [
        {
          "data": {
            "text/plain": [
              "(128, 256)"
            ]
          },
          "execution_count": 14,
          "metadata": {},
          "output_type": "execute_result"
        }
      ],
      "source": [
        "class Expan_proj(nn.Module):\n",
        "    @nn.compact\n",
        "    def __call__(self, x):\n",
        "        x = nn.Dense(features=n_embd)(x)\n",
        "        return x\n",
        "\n",
        "in_proj = nn.Dense(features=n_embd)\n",
        "params = in_proj.init(rng_key, xb)\n",
        "in_proj.apply(params, xb).shape"
      ]
    },
    {
      "cell_type": "code",
      "execution_count": null,
      "metadata": {
        "colab": {
          "base_uri": "https://localhost:8080/"
        },
        "id": "uPS58CZcHFym",
        "outputId": "4d81c17b-b00f-46fe-9273-29d121167565"
      },
      "outputs": [
        {
          "data": {
            "text/plain": [
              "{'params': {'bias': (256,), 'kernel': (64, 256)}}"
            ]
          },
          "execution_count": 15,
          "metadata": {},
          "output_type": "execute_result"
        }
      ],
      "source": [
        "jax.tree_util.tree_map(lambda x: x.shape, params)"
      ]
    },
    {
      "cell_type": "markdown",
      "metadata": {
        "id": "yOccqzJlHFym"
      },
      "source": [
        "# Mamba Block\n",
        "Dense --> Conv1D --> Silu --> SSM --> Silu -->"
      ]
    },
    {
      "cell_type": "code",
      "execution_count": null,
      "metadata": {
        "id": "4qOdblU5HFyo"
      },
      "outputs": [],
      "source": [
        "class Mamba(nn.Module):\n",
        "\n",
        "    def setup(self):\n",
        "        emb_features = n_embd * expans\n",
        "        self.in_proj1 = nn.Dense(features=emb_features)\n",
        "        self.in_proj2 = nn.Dense(features=emb_features)\n",
        "\n",
        "        # Adjusted for Flax. Flax does not have nn.Conv1d, so you might need to reshape or use a different approach\n",
        "        self.conv1d = nn.Conv(features=emb_features,\n",
        "                              kernel_size=conv_k_size,\n",
        "                              padding=1,\n",
        "                              )\n",
        "\n",
        "        self.A = -1*self.param('A', nn.initializers.ones, (1, n_latent_dim, emb_features, 1))\n",
        "        self.B = 0.1*self.param('B', nn.initializers.ones, (1, n_latent_dim, 1, block_size))\n",
        "        self.C = self.param('C', jax.random.normal, (1, n_latent_dim, 1, block_size))\n",
        "#         self.D = self.param('D', jax.random.normal, (1, self.args.d_state, self.args.d_model, 1))\n",
        "        self.delta = self.param('delta', jax.random.normal, (1, 1,emb_features, block_size))\n",
        "\n",
        "        self.out_proj = nn.Dense(n_embd // n_heads)\n",
        "\n",
        "        self.rms_norm = nn.RMSNorm()\n",
        "\n",
        "    def __call__(self, embeds):\n",
        "\n",
        "        x = self.in_proj1(embeds)\n",
        "        x = self.conv1d(x)\n",
        "        x = jax.nn.silu(x)\n",
        "        x = x.reshape((x.shape[0],1,x.shape[2],x.shape[1]))\n",
        "        x = self.ssm(x)[1]\n",
        "        x = x.reshape((x.shape[0],x.shape[3],x.shape[2]))\n",
        "        x = x*jax.nn.silu(self.in_proj2(embeds))\n",
        "\n",
        "        x = self.out_proj(x)\n",
        "\n",
        "        x = self.rms_norm(x)\n",
        "\n",
        "        return x\n",
        "    def discretize(self):\n",
        "        da = self.delta * self.A\n",
        "        a_ = jnp.exp(da)\n",
        "        b_ = self.C * self.delta\n",
        "        return a_, b_\n",
        "\n",
        "    def ssm(self, x):\n",
        "        y = []\n",
        "        h = 0\n",
        "        a_, b_ = self.discretize()\n",
        "        for k in range(x.shape[-1]):\n",
        "            h = a_[..., k] * h + b_[..., k] * x[..., k]\n",
        "            y.append((self.C[..., k] * h).sum(1, keepdims=True))\n",
        "        return h, jnp.stack(y, -1)"
      ]
    },
    {
      "cell_type": "code",
      "execution_count": null,
      "metadata": {
        "id": "0bH9vlLZHFyq"
      },
      "outputs": [],
      "source": [
        "# class MultiHeadMamba(nn.Module):\n",
        "#     def setup(self):\n",
        "#         self.layernorm\n",
        "#         self.heads = [Mamba() for _ in range(n_heads)]\n",
        "#         self.rms_norm = nn.RMSNorm()\n",
        "\n",
        "#     def __call__(self, x):\n",
        "#         out = jnp.concatenate([h(x) for h in self.heads], axis=-1)\n",
        "#         x = self.rms_norm(out)\n",
        "#         return x"
      ]
    },
    {
      "cell_type": "code",
      "execution_count": null,
      "metadata": {
        "id": "UiCxIjoEp2QA"
      },
      "outputs": [],
      "source": [
        "class MambaBlock(nn.Module):\n",
        "    def setup(self):\n",
        "        self.layer_norm = nn.LayerNorm()\n",
        "        self.mamba_block = Mamba()\n",
        "        self.rms_norm = nn.RMSNorm()\n",
        "\n",
        "    def __call__(self, x):\n",
        "        x = x + self.mamba_block(self.layer_norm(x))\n",
        "\n",
        "        return x\n"
      ]
    },
    {
      "cell_type": "code",
      "execution_count": null,
      "metadata": {
        "id": "y4C7OWL8HFyq"
      },
      "outputs": [],
      "source": [
        "class MambaModel(nn.Module):\n",
        "\n",
        "    def setup(self):\n",
        "        self.tok_embeddings = nn.Embed(vocab_size, n_embd)\n",
        "        self.pos_embeddings = nn.Embed(block_size, n_embd)\n",
        "\n",
        "        self.mamba_layers = [MambaBlock() for _ in range(n_layers)]\n",
        "\n",
        "        self.preds_out = nn.Dense(vocab_size)\n",
        "\n",
        "    def __call__(self, x):\n",
        "        x = self.tok_embeddings(x) + self.pos_embeddings(jnp.arange(block_size))\n",
        "        for layer in self.mamba_layers:\n",
        "            x = layer(x)\n",
        "\n",
        "        out = self.preds_out(x)\n",
        "#         out = self.tok_embeddings.attend(x)\n",
        "        return out\n",
        "\n",
        "    @jax.jit\n",
        "    def generate(self, idx, max_new_tokens, params):\n",
        "    # idx is (B, T) array of indices in the current context\n",
        "        for _ in range(max_new_tokens):\n",
        "            # crop idx to the last block_size tokens\n",
        "            idx_cond = idx[:, -block_size:]\n",
        "            # get the predictions\n",
        "            logits = self.apply(params, idx_cond)\n",
        "            # focus only on the last time step\n",
        "            logits = logits[:, -1, :] # becomes (B, C)\n",
        "            # apply softmax to get probabilities\n",
        "            ##probs = tf.keras.activations.softmax(logits, dim=-1) # (B, C)\n",
        "            # sample from the distribution\n",
        "            idx_next = jax.random.categorical(jax.random.PRNGKey(52), logits) # (B, 1)\n",
        "            # append sampled index to the running sequence\n",
        "            idx = jax.numpy.expand_dims(jnp.concatenate([idx[0], idx_next], axis=0), 0) # (B, T+1)\n",
        "    #         print(idx_next)\n",
        "    #         print(idx)\n",
        "\n",
        "        return idx"
      ]
    },
    {
      "cell_type": "code",
      "execution_count": null,
      "metadata": {
        "id": "wTd3jSQWHFyp"
      },
      "outputs": [],
      "source": [
        "# model = Mamba()\n",
        "# params = model.init(jax.random.key(0), xb)\n",
        "# print(model.tabulate(jax.random.key(0), xb,\n",
        "#                    compute_flops=True, compute_vjp_flops=True))\n",
        "# xs = model.apply(params, xb)\n",
        "# xb.shape, xs.shape"
      ]
    },
    {
      "cell_type": "code",
      "execution_count": null,
      "metadata": {
        "id": "cm2a0nepHFyq"
      },
      "outputs": [],
      "source": [
        "# test_model = Mamba()\n",
        "# test_params = test_model.init(jax.random.key(42), xb)\n",
        "# n_params = sum(p.size for p in jax.tree_util.tree_leaves(test_params))\n",
        "# print(f\"Total number of parameters: {n_params:_}\")\n",
        "# # print(fin_model.tabulate(jax.random.key(42), xb,\n",
        "# #                    compute_flops=True, compute_vjp_flops=True))\n",
        "# xf = test_model.apply(test_params, xb)\n",
        "# xb.shape, xf.shape"
      ]
    },
    {
      "cell_type": "code",
      "execution_count": null,
      "metadata": {
        "id": "zuiaFP6WHFyr"
      },
      "outputs": [],
      "source": [
        "# class NanoLM(nn.Module):\n",
        "#     \"\"\"NanoLM model.\"\"\"\n",
        "#     vocab_size: int = 65\n",
        "#     num_layers: int = 6\n",
        "#     num_heads: int = 8\n",
        "#     head_size: int = 32\n",
        "#     dropout_rate: float = 0.2\n",
        "#     embed_size: int = 256\n",
        "#     block_size: int = 64\n",
        "\n",
        "#     @nn.compact\n",
        "#     def __call__(self, x, training: bool):\n",
        "#         seq_len = x.shape[1]\n",
        "\n",
        "#         x = nn.Embed(self.vocab_size, self.embed_size)(x) + nn.Embed(\n",
        "#             self.block_size, self.embed_size\n",
        "#         )(jnp.arange(seq_len))\n",
        "#         for _ in range(self.num_layers):\n",
        "#             x_norm = nn.LayerNorm()(x)\n",
        "#             x = x + nn.MultiHeadDotProductAttention(\n",
        "#               num_heads=self.num_heads,\n",
        "#               qkv_features=self.head_size,\n",
        "#               out_features=self.head_size * self.num_heads,\n",
        "#               dropout_rate=self.dropout_rate,\n",
        "#             )(\n",
        "#               x_norm,\n",
        "#               x_norm,\n",
        "#               mask=jnp.tril(jnp.ones((x.shape[-2], x.shape[-2]))),\n",
        "#               deterministic=not training,\n",
        "#             )\n",
        "\n",
        "#             x = x + nn.Sequential([\n",
        "#               nn.Dense(4 * self.embed_size),\n",
        "#               nn.relu,\n",
        "#               nn.Dropout(self.dropout_rate, deterministic=not training),\n",
        "#               nn.Dense(self.embed_size),\n",
        "#             ])(nn.LayerNorm()(x))\n",
        "\n",
        "#         x = nn.LayerNorm()(x)\n",
        "#         return nn.Dense(self.vocab_size)(x)"
      ]
    },
    {
      "cell_type": "code",
      "execution_count": null,
      "metadata": {
        "colab": {
          "base_uri": "https://localhost:8080/"
        },
        "id": "fnUQPyuvHFys",
        "outputId": "d1883220-3f1b-43de-9243-cd1c9d02097b"
      },
      "outputs": [
        {
          "name": "stdout",
          "output_type": "stream",
          "text": [
            "(128, 64, 256)\n",
            "Total number of parameters: 2_500_161\n",
            "(128, 64, 256)\n"
          ]
        },
        {
          "data": {
            "text/plain": [
              "((128, 64), (128, 64, 65))"
            ]
          },
          "execution_count": 23,
          "metadata": {},
          "output_type": "execute_result"
        }
      ],
      "source": [
        "fin_model = MambaModel()\n",
        "fin_params = fin_model.init(jax.random.key(42), xb)\n",
        "n_params = sum(p.size for p in jax.tree_util.tree_leaves(fin_params))\n",
        "print(f\"Total number of parameters: {n_params:_}\")\n",
        "# print(fin_model.tabulate(jax.random.key(42), xb,\n",
        "#                    compute_flops=True, compute_vjp_flops=True))\n",
        "xf = fin_model.apply(fin_params, xb)\n",
        "xb.shape, xf.shape"
      ]
    },
    {
      "cell_type": "code",
      "execution_count": null,
      "metadata": {
        "colab": {
          "base_uri": "https://localhost:8080/"
        },
        "id": "UER3tZ9pHFyt",
        "outputId": "801aaff6-f75b-41ce-8976-5fa0503e477b"
      },
      "outputs": [
        {
          "data": {
            "text/plain": [
              "512"
            ]
          },
          "execution_count": 24,
          "metadata": {},
          "output_type": "execute_result"
        }
      ],
      "source": [
        "n_embd * expans"
      ]
    },
    {
      "cell_type": "code",
      "execution_count": null,
      "metadata": {
        "id": "PKpb3864HFyt"
      },
      "outputs": [],
      "source": [
        "# token_gen = generate(jnp.zeros((1,1)).astype(jnp.int32), 100, fin_model, fin_params)\n",
        "# print(token_gen)\n",
        "# print(decode(token_gen[0].tolist()))"
      ]
    },
    {
      "cell_type": "code",
      "execution_count": null,
      "metadata": {
        "colab": {
          "base_uri": "https://localhost:8080/"
        },
        "id": "Oe_GIDP2HFyt",
        "outputId": "6acb56ee-fce1-45b0-e3a9-fb54f65017d2"
      },
      "outputs": [
        {
          "data": {
            "text/plain": [
              "Array(35, dtype=int32)"
            ]
          },
          "execution_count": 26,
          "metadata": {},
          "output_type": "execute_result"
        }
      ],
      "source": [
        "jax.random.categorical(jax.random.PRNGKey(5332), 1000.0*xf[1][-1][:])"
      ]
    },
    {
      "cell_type": "code",
      "execution_count": null,
      "metadata": {
        "id": "s3nN1jOiHFyu"
      },
      "outputs": [],
      "source": [
        "@struct.dataclass\n",
        "class Metrics(metrics.Collection):\n",
        "    accuracy: metrics.Accuracy\n",
        "    loss: metrics.Average.from_output('loss')"
      ]
    },
    {
      "cell_type": "code",
      "execution_count": null,
      "metadata": {
        "id": "7LLDTSFQHFyu"
      },
      "outputs": [],
      "source": [
        "class TrainState(train_state.TrainState):\n",
        "    metrics: Metrics\n",
        "\n",
        "def create_train_state(module, rng, learning_rate, train_shape):\n",
        "    \"\"\"Creates an initial `TrainState`.\"\"\"\n",
        "    params = module.init(rng, jnp.ones(train_shape).astype(jnp.int32))['params'] # initialize parameters by passing a template image\n",
        "    tx = optax.adamw(learning_rate)\n",
        "    return TrainState.create(\n",
        "      apply_fn=module.apply, params=params, tx=tx,\n",
        "      metrics=Metrics.empty(),\n",
        "    )"
      ]
    },
    {
      "cell_type": "code",
      "execution_count": null,
      "metadata": {
        "id": "zApWXUDaHFyu"
      },
      "outputs": [],
      "source": [
        "@jax.jit\n",
        "def train_step(state, inputs, targets):\n",
        "    \"\"\"Train for a single step.\"\"\"\n",
        "    def loss_fn(params):\n",
        "        logits = state.apply_fn({'params': params}, inputs)\n",
        "        loss = optax.softmax_cross_entropy_with_integer_labels(\n",
        "            logits=logits, labels=targets).mean()\n",
        "        return loss\n",
        "    grad_fn = jax.grad(loss_fn)\n",
        "    grads = grad_fn(state.params)\n",
        "    state = state.apply_gradients(grads=grads)\n",
        "    return state"
      ]
    },
    {
      "cell_type": "code",
      "execution_count": null,
      "metadata": {
        "id": "VzukZ4iEHFyv"
      },
      "outputs": [],
      "source": [
        "@jax.jit\n",
        "def compute_metrics(*, state, inputs, targets):\n",
        "    logits = state.apply_fn({'params': state.params}, inputs)\n",
        "    loss = optax.softmax_cross_entropy_with_integer_labels(\n",
        "        logits=logits, labels=targets).mean()\n",
        "    metric_updates = state.metrics.single_from_model_output(\n",
        "    logits=logits, labels=targets, loss=loss)\n",
        "    metrics = state.metrics.merge(metric_updates)\n",
        "    state = state.replace(metrics=metrics)\n",
        "    return state"
      ]
    },
    {
      "cell_type": "code",
      "execution_count": null,
      "metadata": {
        "id": "ehYvMeuNHFyv"
      },
      "outputs": [],
      "source": [
        "num_epochs = 10\n",
        "learning_rate = 0.005\n",
        "init_rng = jax.random.key(0)"
      ]
    },
    {
      "cell_type": "code",
      "execution_count": null,
      "metadata": {
        "colab": {
          "base_uri": "https://localhost:8080/"
        },
        "id": "D60UHLFHHFyv",
        "outputId": "b3d3fa53-9438-4fad-d53f-13a928057abe"
      },
      "outputs": [
        {
          "name": "stdout",
          "output_type": "stream",
          "text": [
            "(128, 64, 256)\n"
          ]
        }
      ],
      "source": [
        "state = create_train_state(fin_model, init_rng, learning_rate, train_shape)\n",
        "del init_rng  # Must not be used anymore."
      ]
    },
    {
      "cell_type": "code",
      "execution_count": null,
      "metadata": {
        "id": "Jl-9TlHEHFyv"
      },
      "outputs": [],
      "source": [
        "metrics_history = {'train_loss': [],\n",
        "                   'train_accuracy': [],\n",
        "                   'test_loss': [],\n",
        "                   'test_accuracy': []}"
      ]
    },
    {
      "cell_type": "code",
      "execution_count": null,
      "metadata": {
        "colab": {
          "background_save": true,
          "base_uri": "https://localhost:8080/"
        },
        "id": "CaNt9JazHFyw",
        "outputId": "1c9d3de5-2146-4666-b33c-8cd7fa0e0712"
      },
      "outputs": [
        {
          "name": "stderr",
          "output_type": "stream",
          "text": [
            "\r  0%|          | 0/1000 [00:00<?, ?it/s]"
          ]
        },
        {
          "name": "stdout",
          "output_type": "stream",
          "text": [
            "(128, 64, 256)\n",
            "(128, 64, 256)\n"
          ]
        }
      ],
      "source": [
        "SEED = 442\n",
        "key = jax.random.PRNGKey(SEED)\n",
        "for step in tqdm(range(max_iters)): # increase number of steps for good results...\n",
        "\n",
        "      # sample a batch of data\n",
        "    xb, yb = get_batch(key, train_data)\n",
        "    state = train_step(state, xb, yb)\n",
        "    state = compute_metrics(state=state, inputs=xb, targets=yb)\n",
        "\n",
        "    key = (jax.random.split(key)[0])\n",
        "\n",
        "    if step == 0 or (step+1) % 100 == 0: # one training epoch has passed\n",
        "        for metric,value in state.metrics.compute().items(): # compute metrics\n",
        "            metrics_history[f'train_{metric}'].append(value) # record metrics\n",
        "        state = state.replace(metrics=state.metrics.empty()) # reset train_metrics for next training epoch\n",
        "\n",
        "        # Compute metrics on the test set after each training epoch\n",
        "        test_state = state\n",
        "        x_test, y_test = get_batch(key, test_data)\n",
        "    #     for test_batch in test_ds.as_numpy_iterator():\n",
        "        test_state = compute_metrics(state=test_state, inputs=x_test, targets=y_test)\n",
        "\n",
        "        for metric,value in test_state.metrics.compute().items():\n",
        "            metrics_history[f'test_{metric}'].append(value)\n",
        "\n",
        "        print(f\"train epoch: {(step+1)}, \"\n",
        "              f\"loss: {metrics_history['train_loss'][-1]}, \"\n",
        "              f\"accuracy: {metrics_history['train_accuracy'][-1] * 100}\")\n",
        "        print(f\"test epoch: {(step+1) }, \"\n",
        "          f\"loss: {metrics_history['test_loss'][-1]}, \"\n",
        "          f\"accuracy: {metrics_history['test_accuracy'][-1] * 100}\")"
      ]
    },
    {
      "cell_type": "code",
      "execution_count": null,
      "metadata": {
        "id": "Y40JGx1YHFyw"
      },
      "outputs": [],
      "source": [
        "import matplotlib.pyplot as plt  # Visualization\n",
        "\n",
        "# Plot loss and accuracy in subplots\n",
        "fig, (ax1, ax2) = plt.subplots(1, 2, figsize=(15, 5))\n",
        "ax1.set_title('Loss')\n",
        "ax2.set_title('Accuracy')\n",
        "for dataset in ('train','test'):\n",
        "    ax1.plot(metrics_history[f'{dataset}_loss'], label=f'{dataset}_loss')\n",
        "    ax2.plot(metrics_history[f'{dataset}_accuracy'], label=f'{dataset}_accuracy')\n",
        "ax1.legend()\n",
        "ax2.legend()\n",
        "plt.show()\n",
        "plt.clf()"
      ]
    },
    {
      "cell_type": "code",
      "execution_count": null,
      "metadata": {
        "id": "7pJlFXpVHFyw"
      },
      "outputs": [],
      "source": [
        "\n",
        "logits = fin_model.apply(fin_params, xb)\n",
        "loss = optax.softmax_cross_entropy_with_integer_labels(\n",
        "            logits=logits, labels=yb).mean()\n",
        "\n",
        "print(loss)"
      ]
    },
    {
      "cell_type": "code",
      "execution_count": null,
      "metadata": {
        "id": "9d28o-dTHFyx"
      },
      "outputs": [],
      "source": [
        "# def generate_text(idx, max_new_tokens, params):\n",
        "# # idx is (B, T) array of indices in the current context\n",
        "#     for i in range(max_new_tokens):\n",
        "#         # crop idx to the last block_size tokens\n",
        "#         idx_cond = idx[:, -block_size:]\n",
        "#         # get the predictions\n",
        "#         logits = fin_model.apply(params, idx_cond)\n",
        "#         # focus only on the last time step\n",
        "#         logits = logits[:, -1, :] # becomes (B, C)\n",
        "\n",
        "#         if i == 0:\n",
        "#             rng, rng_subkey = jax.random.split(jax.random.PRNGKey(12))\n",
        "#         else:\n",
        "#             rng, rng_subkey = jax.random.split(rng)\n",
        "\n",
        "#         idx_next = jax.random.categorical(rng_subkey, logits, axis=-1, shape=(1, 1)) # (B, 1)\n",
        "\n",
        "\n",
        "#         # append sampled index to the running sequence\n",
        "#         idx = jnp.concatenate([idx, idx_next], axis=-1) # (B, T+1)\n",
        "\n",
        "#     return idx"
      ]
    },
    {
      "cell_type": "code",
      "execution_count": null,
      "metadata": {
        "id": "WB0og7pAHFyx"
      },
      "outputs": [],
      "source": [
        "@partial(jax.jit, static_argnames=(\"self\", \"length\"))\n",
        "def generate_text(rng, params, length):\n",
        "    def _scan_generate(carry, _):\n",
        "        random_key, context = carry\n",
        "        logits = fin_model.apply(params, context)\n",
        "        rng, rng_subkey = jax.random.split(random_key)\n",
        "        new_token = jax.random.categorical(\n",
        "          rng_subkey, logits[:, -1, :], axis=-1, shape=(1, 1)\n",
        "        )\n",
        "        context = jnp.concatenate([context[:, 1:], new_token], axis=1)\n",
        "        return (rng, context), new_token\n",
        "\n",
        "    _, new_tokens = jax.lax.scan(\n",
        "    _scan_generate,\n",
        "    (rng, jnp.zeros((1, block_size), dtype=jnp.int32)),\n",
        "    (),\n",
        "    length=length,\n",
        "    )\n",
        "    return new_tokens"
      ]
    },
    {
      "cell_type": "code",
      "execution_count": null,
      "metadata": {
        "id": "50Vpg2lEHFyx"
      },
      "outputs": [],
      "source": [
        "new_tokenz = 1000\n",
        "key, subkey = jax.random.split(jax.random.PRNGKey(156))\n",
        "# key, subkey = jax.random.split(key)\n",
        "# token_gen = generate_text(jnp.zeros((1,block_size)).astype(jnp.int32), new_tokenz, {'params': state.params})\n",
        "token_gen = generate_text(key, {'params': state.params}, new_tokenz)[:, 0, 0].tolist()\n",
        "print(token_gen)\n",
        "print(decode(token_gen))"
      ]
    },
    {
      "cell_type": "code",
      "execution_count": null,
      "metadata": {
        "id": "MOw_xjbrHFy0"
      },
      "outputs": [],
      "source": [
        "!pip install mamba-ssm"
      ]
    },
    {
      "cell_type": "code",
      "execution_count": null,
      "metadata": {
        "id": "W_PAnYcEOR22"
      },
      "outputs": [],
      "source": [
        "ones = lambda *size: torch.ones(*size).float().cuda()\n",
        "zeros = lambda *size: torch.zeros(*size).float().cuda()\n",
        "arange = lambda n: torch.arange(n).float().cuda()\n",
        "rand = lambda size: torch.rand(*size).abs().float().cuda()\n",
        "\n",
        "def create_torch(S = 128, Ba = 2, D = 4, N = 4):\n",
        "    x = rand((Ba, 1, D, S))\n",
        "    a = -ones((Ba, N, D, 1))\n",
        "    b = ones((Ba, N, 1, S)) * 0.1\n",
        "    c = rand((Ba, N, 1, S)) * 0.1\n",
        "    delta = rand((Ba, 1, D, S)) * 0.1\n",
        "    return x, a, b, c, delta"
      ]
    },
    {
      "cell_type": "code",
      "execution_count": null,
      "metadata": {
        "id": "ykh4GTvtOrak"
      },
      "outputs": [],
      "source": [
        "import selective_scan_cuda\n",
        "\n",
        "xx, aa, bb, cc, ddelta = create_torch()\n",
        "y_from_repo = selective_scan_cuda.fwd(xx.squeeze(1), ddelta.squeeze(1), aa[0].squeeze(-1).T, bb.squeeze(-2)[:, None, :, :], cc.squeeze(-2)[:, None, :, :], None, None, None, False)\n",
        "y_from_repo"
      ]
    },
    {
      "cell_type": "code",
      "execution_count": null,
      "metadata": {
        "id": "NEdG1yPNOtxU"
      },
      "outputs": [],
      "source": [
        "def discretize(a, b, delta):\n",
        "    da = delta * a\n",
        "    a_ = jnp.exp(da)\n",
        "    b_ = b * delta\n",
        "    return a_, b_\n",
        "\n",
        "def ssm(x, a, b, c, delta):\n",
        "    \"Jax Implementation\"\n",
        "    y = []\n",
        "    h = 0\n",
        "    a_, b_ = discretize(a, b, delta)\n",
        "    for k in range(x.shape[-1]):\n",
        "        h = a_[..., k] * h + b_[..., k] * x[..., k]\n",
        "        y.append((c[..., k] * h).sum(1, keepdims=True))\n",
        "    return h, jnp.stack(y, -1)\n"
      ]
    },
    {
      "cell_type": "code",
      "execution_count": null,
      "metadata": {
        "id": "GEjNcZSZPIp_"
      },
      "outputs": [],
      "source": [
        "_, y_ = ssm(xx.cpu().numpy(), aa.cpu().numpy(), bb.cpu().numpy(), cc.cpu().numpy(), ddelta.cpu().numpy())"
      ]
    },
    {
      "cell_type": "code",
      "execution_count": null,
      "metadata": {
        "id": "tWlqZZOmPnYk"
      },
      "outputs": [],
      "source": []
    },
    {
      "cell_type": "code",
      "execution_count": null,
      "metadata": {
        "id": "5RHAE_I1Pql9"
      },
      "outputs": [],
      "source": [
        "from mamba_ssm import Mamba as Mamba_T\n",
        "torch_mamba = Mamba_T(\n",
        "      # This module uses roughly 3 * expand * d_model^2 parameters\n",
        "      d_model=n_embd, # Model dimension d_model\n",
        "      d_state=16,  # SSM state expansion factor\n",
        "      d_conv=4,    # Local convolution width\n",
        "      expand=2,    # Block expansion factor\n",
        ")"
      ]
    },
    {
      "cell_type": "code",
      "execution_count": null,
      "metadata": {
        "id": "l9zw_M-USrDt"
      },
      "outputs": [],
      "source": [
        "xm = x = rand((1, 1, n_embd, 32))\n",
        "xm.shape"
      ]
    },
    {
      "cell_type": "code",
      "execution_count": null,
      "metadata": {
        "id": "gGmA2EWlTCo0"
      },
      "outputs": [],
      "source": [
        "torch_mamba(xm.squeeze(1))"
      ]
    },
    {
      "cell_type": "code",
      "execution_count": null,
      "metadata": {
        "id": "73ek9mx9UBBl"
      },
      "outputs": [],
      "source": [
        "torch_mamba.in_proj"
      ]
    },
    {
      "cell_type": "code",
      "execution_count": null,
      "metadata": {
        "id": "P3l_ssIYbiYT"
      },
      "outputs": [],
      "source": []
    },
    {
      "cell_type": "code",
      "execution_count": null,
      "metadata": {
        "id": "-X7hXQRMZhl3"
      },
      "outputs": [],
      "source": [
        "y_mamba_repo = mamba_inner_fn()"
      ]
    },
    {
      "cell_type": "code",
      "execution_count": null,
      "metadata": {
        "id": "rJhKQ_Oua9Gy"
      },
      "outputs": [],
      "source": [
        "xm.squeeze(1).shape"
      ]
    },
    {
      "cell_type": "code",
      "execution_count": null,
      "metadata": {
        "id": "mzkoYrSVkoJj"
      },
      "outputs": [],
      "source": []
    }
  ],
  "metadata": {
    "colab": {
      "provenance": [],
      "include_colab_link": true
    },
    "kaggle": {
      "accelerator": "nvidiaTeslaT4",
      "dataSources": [],
      "dockerImageVersionId": 30699,
      "isGpuEnabled": true,
      "isInternetEnabled": true,
      "language": "python",
      "sourceType": "notebook"
    },
    "kernelspec": {
      "display_name": "Python 3",
      "name": "python3"
    },
    "language_info": {
      "codemirror_mode": {
        "name": "ipython",
        "version": 3
      },
      "file_extension": ".py",
      "mimetype": "text/x-python",
      "name": "python",
      "nbconvert_exporter": "python",
      "pygments_lexer": "ipython3",
      "version": "3.10.13"
    }
  },
  "nbformat": 4,
  "nbformat_minor": 0
}